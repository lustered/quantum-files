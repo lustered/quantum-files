{
 "cells": [
  {
   "cell_type": "code",
   "execution_count": 7,
   "metadata": {},
   "outputs": [],
   "source": [
    "# Quantum computing with Counterfactual Regret Minimization\n",
    "# Using the principle of cfr\n",
    "# Calculating quantum probability and trying to predict rock,paper,scissor winning rate/scenarios\n",
    "\n",
    "import qiskit as qs\n",
    "import matplotlib.pyplot as plt\n",
    "%matplotlib inline\n",
    "import numpy as np\n",
    "from pandas import DataFrame"
   ]
  },
  {
   "cell_type": "code",
   "execution_count": 31,
   "metadata": {},
   "outputs": [
    {
     "data": {
      "text/html": [
       "<pre style=\"word-wrap: normal;white-space: pre;background: #fff0;line-height: 1.1;font-family: &quot;Courier New&quot;,Courier,monospace\">        ┌───┐          ┌─┐   \n",
       "q_0: |0>┤ X ├───────■──┤M├───\n",
       "        ├───┤     ┌─┴─┐└╥┘┌─┐\n",
       "q_1: |0>┤ H ├──■──┤ H ├─╫─┤M├\n",
       "        ├───┤┌─┴─┐└┬─┬┘ ║ └╥┘\n",
       "q_2: |0>┤ X ├┤ X ├─┤M├──╫──╫─\n",
       "        └───┘└───┘ └╥┘  ║  ║ \n",
       " c_0: 0 ════════════╬═══╩══╬═\n",
       "                    ║      ║ \n",
       " c_1: 0 ════════════╩══════╬═\n",
       "                           ║ \n",
       " c_2: 0 ═══════════════════╩═\n",
       "                             </pre>"
      ],
      "text/plain": [
       "<qiskit.visualization.text.TextDrawing at 0x7fb6084ff160>"
      ]
     },
     "execution_count": 31,
     "metadata": {},
     "output_type": "execute_result"
    }
   ],
   "source": [
    "# Quantum circuit with 3 qbits and 3 cbits\n",
    "circuit = qs.QuantumCircuit(3,3)\n",
    "circuit.x(0)\n",
    "circuit.h(1)\n",
    "circuit.x(2)\n",
    "circuit.cx(1,2)\n",
    "circuit.ch(0,1)\n",
    "circuit.measure(0,0)\n",
    "circuit.measure(1,2)\n",
    "circuit.measure(2,1)\n",
    "circuit.draw()"
   ]
  },
  {
   "cell_type": "code",
   "execution_count": 32,
   "metadata": {},
   "outputs": [
    {
     "name": "stdout",
     "output_type": "stream",
     "text": [
      "[3.33 3.33 3.33]\n"
     ]
    }
   ],
   "source": [
    "# Ideal probability for r,p,c \n",
    "prob = np.array([3.33]*3)\n",
    "print(prob)"
   ]
  },
  {
   "cell_type": "code",
   "execution_count": 41,
   "metadata": {},
   "outputs": [
    {
     "data": {
      "image/png": "[encoded data removed]",
      "text/plain": [
       "<Figure size 504x360 with 1 Axes>"
      ]
     },
     "execution_count": 41,
     "metadata": {},
     "output_type": "execute_result"
    }
   ],
   "source": [
    "# Visualization\n",
    "from qiskit.visualization import plot_histogram\n",
    "# Execute the circuit on the qasm simulator\n",
    "simulator = qs.Aer.get_backend('qasm_simulator')\n",
    "job = qs.execute(circuit, simulator, shots=1000)\n",
    "\n",
    "# Grab results from the job\n",
    "result = job.result()\n",
    "# Returns counts\n",
    "counts = result.get_counts(circuit)\n",
    "plot_histogram(counts)"
   ]
  },
  {
   "cell_type": "code",
   "execution_count": 45,
   "metadata": {},
   "outputs": [
    {
     "name": "stdout",
     "output_type": "stream",
     "text": [
      "        ┌───┐          ┌─┐   \n",
      "q_0: |0>┤ X ├───────■──┤M├───\n",
      "        ├───┤     ┌─┴─┐└╥┘┌─┐\n",
      "q_1: |0>┤ H ├──■──┤ H ├─╫─┤M├\n",
      "        ├───┤┌─┴─┐└┬─┬┘ ║ └╥┘\n",
      "q_2: |0>┤ X ├┤ X ├─┤M├──╫──╫─\n",
      "        └───┘└───┘ └╥┘  ║  ║ \n",
      " c_0: 0 ════════════╬═══╩══╬═\n",
      "                    ║      ║ \n",
      " c_1: 0 ════════════╩══════╬═\n",
      "                           ║ \n",
      " c_2: 0 ═══════════════════╩═\n",
      "                             \n"
     ]
    }
   ],
   "source": []
  }
 ],
 "metadata": {
  "kernelspec": {
   "display_name": "Python 3",
   "language": "python",
   "name": "python3"
  },
  "language_info": {
   "codemirror_mode": {
    "name": "ipython",
    "version": 3
   },
   "file_extension": ".py",
   "mimetype": "text/x-python",
   "name": "python",
   "nbconvert_exporter": "python",
   "pygments_lexer": "ipython3",
   "version": "3.6.9"
  }
 },
 "nbformat": 4,
 "nbformat_minor": 4
}
